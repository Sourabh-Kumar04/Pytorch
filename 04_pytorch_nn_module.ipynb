{
 "cells": [
  {
   "cell_type": "markdown",
   "id": "23e0069a",
   "metadata": {},
   "source": [
    "## NN Module"
   ]
  },
  {
   "cell_type": "markdown",
   "id": "22bf9ea2",
   "metadata": {},
   "source": [
    "### Neural Network without any Hidden Layer"
   ]
  },
  {
   "cell_type": "code",
   "execution_count": 8,
   "id": "9d91029e",
   "metadata": {},
   "outputs": [],
   "source": [
    "# create model class\n",
    "import torch\n",
    "import torch.nn as nn\n",
    "\n",
    "class Model(nn.Module):\n",
    "    def __init__(self, num_features):\n",
    "        super().__init__()\n",
    "        self.linear = nn.Linear(num_features, 1)\n",
    "        self.sigmoid = nn.Sigmoid()\n",
    "        \n",
    "    def forward(self, features):\n",
    "        out = self.linear(features)\n",
    "        out = self.sigmoid(out)\n",
    "        return out"
   ]
  },
  {
   "cell_type": "code",
   "execution_count": 9,
   "metadata": {},
   "outputs": [
    {
     "data": {
      "text/plain": [
       "tensor([[0.3743],\n",
       "        [0.3968],\n",
       "        [0.4755],\n",
       "        [0.4297],\n",
       "        [0.3764],\n",
       "        [0.3937],\n",
       "        [0.3527],\n",
       "        [0.4140],\n",
       "        [0.3837],\n",
       "        [0.3551]], grad_fn=<SigmoidBackward0>)"
      ]
     },
     "execution_count": 9,
     "metadata": {},
     "output_type": "execute_result"
    }
   ],
   "source": [
    "# create a dataset\n",
    "features = torch.rand(10, 5)\n",
    "\n",
    "# creates a model\n",
    "model = Model(features.shape[1])\n",
    "\n",
    "# call model for forward pass\n",
    "model(features)"
   ]
  },
  {
   "cell_type": "code",
   "execution_count": 10,
   "metadata": {},
   "outputs": [
    {
     "data": {
      "text/plain": [
       "Parameter containing:\n",
       "tensor([[-0.3707,  0.4324, -0.3916, -0.2692, -0.0089]], requires_grad=True)"
      ]
     },
     "execution_count": 10,
     "metadata": {},
     "output_type": "execute_result"
    }
   ],
   "source": [
    "# show model weights\n",
    "model.linear.weight"
   ]
  },
  {
   "cell_type": "code",
   "execution_count": 11,
   "metadata": {},
   "outputs": [
    {
     "data": {
      "text/plain": [
       "Parameter containing:\n",
       "tensor([-0.0778], requires_grad=True)"
      ]
     },
     "execution_count": 11,
     "metadata": {},
     "output_type": "execute_result"
    }
   ],
   "source": [
    "# show model bias\n",
    "model.linear.bias"
   ]
  },
  {
   "cell_type": "code",
   "execution_count": 12,
   "metadata": {},
   "outputs": [
    {
     "name": "stdout",
     "output_type": "stream",
     "text": [
      "Collecting torchinfo\n",
      "  Downloading torchinfo-1.8.0-py3-none-any.whl.metadata (21 kB)\n",
      "Downloading torchinfo-1.8.0-py3-none-any.whl (23 kB)\n",
      "Installing collected packages: torchinfo\n",
      "Successfully installed torchinfo-1.8.0\n",
      "\n",
      "\u001b[1m[\u001b[0m\u001b[34;49mnotice\u001b[0m\u001b[1;39;49m]\u001b[0m\u001b[39;49m A new release of pip is available: \u001b[0m\u001b[31;49m24.3.1\u001b[0m\u001b[39;49m -> \u001b[0m\u001b[32;49m25.1.1\u001b[0m\n",
      "\u001b[1m[\u001b[0m\u001b[34;49mnotice\u001b[0m\u001b[1;39;49m]\u001b[0m\u001b[39;49m To update, run: \u001b[0m\u001b[32;49mpip install --upgrade pip\u001b[0m\n"
     ]
    }
   ],
   "source": [
    "!pip install torchinfo"
   ]
  },
  {
   "cell_type": "code",
   "execution_count": 13,
   "metadata": {},
   "outputs": [
    {
     "data": {
      "text/plain": [
       "==========================================================================================\n",
       "Layer (type:depth-idx)                   Output Shape              Param #\n",
       "==========================================================================================\n",
       "Model                                    [10, 1]                   --\n",
       "├─Linear: 1-1                            [10, 1]                   6\n",
       "├─Sigmoid: 1-2                           [10, 1]                   --\n",
       "==========================================================================================\n",
       "Total params: 6\n",
       "Trainable params: 6\n",
       "Non-trainable params: 0\n",
       "Total mult-adds (Units.MEGABYTES): 0.00\n",
       "==========================================================================================\n",
       "Input size (MB): 0.00\n",
       "Forward/backward pass size (MB): 0.00\n",
       "Params size (MB): 0.00\n",
       "Estimated Total Size (MB): 0.00\n",
       "=========================================================================================="
      ]
     },
     "execution_count": 13,
     "metadata": {},
     "output_type": "execute_result"
    }
   ],
   "source": [
    "from torchinfo import summary\n",
    "\n",
    "summary(model, input_size=(10, 5))"
   ]
  },
  {
   "cell_type": "markdown",
   "id": "e03f42c7",
   "metadata": {},
   "source": [
    "### Neural Network with any Hidden Layer"
   ]
  },
  {
   "cell_type": "code",
   "execution_count": null,
   "metadata": {},
   "outputs": [],
   "source": [
    "import torch\n",
    "import torch.nn as nn"
   ]
  },
  {
   "cell_type": "code",
   "execution_count": 14,
   "metadata": {},
   "outputs": [],
   "source": [
    "class ModelwithHiddenLayer(nn.Module):\n",
    "    def __init__(self, num_features):\n",
    "        super().__init__()\n",
    "        self.linear1 = nn.Linear(num_features, 3)\n",
    "        self.relu = nn.ReLU()\n",
    "        self.linear2 = nn.Linear(3, 1)\n",
    "        self.sigmoid = nn.Sigmoid()\n",
    "\n",
    "    def forward(self, features):\n",
    "        out = self.linear1(features)\n",
    "        out = self.relu(out)\n",
    "        out = self.linear2(out)\n",
    "        out = self.sigmoid(out)\n",
    "\n",
    "        return out\n",
    "    "
   ]
  },
  {
   "cell_type": "code",
   "execution_count": 16,
   "id": "870661c2",
   "metadata": {},
   "outputs": [
    {
     "data": {
      "text/plain": [
       "tensor([[0.3503],\n",
       "        [0.3458],\n",
       "        [0.3480],\n",
       "        [0.3370],\n",
       "        [0.3514],\n",
       "        [0.3476],\n",
       "        [0.3573],\n",
       "        [0.3586],\n",
       "        [0.3510],\n",
       "        [0.3613]], grad_fn=<SigmoidBackward0>)"
      ]
     },
     "execution_count": 16,
     "metadata": {},
     "output_type": "execute_result"
    }
   ],
   "source": [
    "# creates dataset\n",
    "features = torch.rand(10, 5)\n",
    "\n",
    "# create model\n",
    "model = ModelwithHiddenLayer(features.shape[1])\n",
    "\n",
    "# call model for forward pass\n",
    "# model.forward(features)\n",
    "model(features)"
   ]
  },
  {
   "cell_type": "code",
   "execution_count": 19,
   "metadata": {},
   "outputs": [
    {
     "data": {
      "text/plain": [
       "Parameter containing:\n",
       "tensor([[ 0.0423,  0.3623, -0.2313]], requires_grad=True)"
      ]
     },
     "execution_count": 19,
     "metadata": {},
     "output_type": "execute_result"
    }
   ],
   "source": [
    "# show model weights\n",
    "# model.linear1.weight\n",
    "model.linear2.weight"
   ]
  },
  {
   "cell_type": "code",
   "execution_count": 22,
   "id": "c0e35c88",
   "metadata": {},
   "outputs": [
    {
     "data": {
      "text/plain": [
       "Parameter containing:\n",
       "tensor([-0.5742], requires_grad=True)"
      ]
     },
     "execution_count": 22,
     "metadata": {},
     "output_type": "execute_result"
    }
   ],
   "source": [
    "# show model bias\n",
    "# model.linear1.bias\n",
    "model.linear2.bias"
   ]
  },
  {
   "cell_type": "code",
   "execution_count": 23,
   "metadata": {},
   "outputs": [
    {
     "data": {
      "text/plain": [
       "==========================================================================================\n",
       "Layer (type:depth-idx)                   Output Shape              Param #\n",
       "==========================================================================================\n",
       "ModelwithHiddenLayer                     [10, 1]                   --\n",
       "├─Linear: 1-1                            [10, 3]                   18\n",
       "├─ReLU: 1-2                              [10, 3]                   --\n",
       "├─Linear: 1-3                            [10, 1]                   4\n",
       "├─Sigmoid: 1-4                           [10, 1]                   --\n",
       "==========================================================================================\n",
       "Total params: 22\n",
       "Trainable params: 22\n",
       "Non-trainable params: 0\n",
       "Total mult-adds (Units.MEGABYTES): 0.00\n",
       "==========================================================================================\n",
       "Input size (MB): 0.00\n",
       "Forward/backward pass size (MB): 0.00\n",
       "Params size (MB): 0.00\n",
       "Estimated Total Size (MB): 0.00\n",
       "=========================================================================================="
      ]
     },
     "execution_count": 23,
     "metadata": {},
     "output_type": "execute_result"
    }
   ],
   "source": [
    "from torchinfo import summary\n",
    "\n",
    "summary(model, input_size=(10, 5))"
   ]
  },
  {
   "cell_type": "markdown",
   "id": "7ace03b4",
   "metadata": {},
   "source": [
    "### Sequential Container"
   ]
  },
  {
   "cell_type": "code",
   "execution_count": 24,
   "id": "73d8a72e",
   "metadata": {},
   "outputs": [],
   "source": [
    "class ModelwithHiddenLayer(nn.Module):\n",
    "    def __init__(self, num_features):\n",
    "        super().__init__()\n",
    "        self.network = nn.Sequential(\n",
    "            nn.Linear(num_features, 3),\n",
    "            nn.ReLU(),\n",
    "            nn.Linear(3, 1),\n",
    "            nn.Sigmoid()\n",
    "        )\n",
    "\n",
    "    def forward(self, features):\n",
    "        out = self.network(features)\n",
    "\n",
    "        return out\n",
    "    "
   ]
  },
  {
   "cell_type": "code",
   "execution_count": 25,
   "id": "3744e68e",
   "metadata": {},
   "outputs": [
    {
     "data": {
      "text/plain": [
       "tensor([[0.3338],\n",
       "        [0.3584],\n",
       "        [0.3697],\n",
       "        [0.3685],\n",
       "        [0.3665],\n",
       "        [0.3459],\n",
       "        [0.3944],\n",
       "        [0.3336],\n",
       "        [0.3523],\n",
       "        [0.3513]], grad_fn=<SigmoidBackward0>)"
      ]
     },
     "execution_count": 25,
     "metadata": {},
     "output_type": "execute_result"
    }
   ],
   "source": [
    "# creates dataset\n",
    "features = torch.rand(10, 5)\n",
    "\n",
    "# create model\n",
    "model = ModelwithHiddenLayer(features.shape[1])\n",
    "\n",
    "# call model for forward pass\n",
    "# model.forward(features)\n",
    "model(features)"
   ]
  },
  {
   "cell_type": "code",
   "execution_count": null,
   "id": "cfd9fd82",
   "metadata": {},
   "outputs": [],
   "source": [
    "# Inspecting the Model\n",
    "model.network"
   ]
  },
  {
   "cell_type": "code",
   "execution_count": 37,
   "id": "1e937c6a",
   "metadata": {},
   "outputs": [
    {
     "data": {
      "text/plain": [
       "Parameter containing:\n",
       "tensor([[-0.1998,  0.4892, -0.2644]], requires_grad=True)"
      ]
     },
     "execution_count": 37,
     "metadata": {},
     "output_type": "execute_result"
    }
   ],
   "source": [
    "# show model weights \n",
    "\n",
    "# model.network[0].weight  # Weights of the first Linear layer\n",
    "model.network[2].weight  # Weights of the second Linear layer\n"
   ]
  },
  {
   "cell_type": "code",
   "execution_count": 36,
   "id": "94f91b34",
   "metadata": {},
   "outputs": [
    {
     "data": {
      "text/plain": [
       "Parameter containing:\n",
       "tensor([ 0.1363, -0.0318,  0.3949], requires_grad=True)"
      ]
     },
     "execution_count": 36,
     "metadata": {},
     "output_type": "execute_result"
    }
   ],
   "source": [
    "# show model bias\n",
    "\n",
    "model.network[0].bias    # Bias of the first Linear layer\n",
    "# model.network[2].bias    # Bias of the second Linear layer"
   ]
  },
  {
   "cell_type": "code",
   "execution_count": 38,
   "id": "d35c9399",
   "metadata": {},
   "outputs": [
    {
     "data": {
      "text/plain": [
       "==========================================================================================\n",
       "Layer (type:depth-idx)                   Output Shape              Param #\n",
       "==========================================================================================\n",
       "ModelwithHiddenLayer                     [10, 1]                   --\n",
       "├─Sequential: 1-1                        [10, 1]                   --\n",
       "│    └─Linear: 2-1                       [10, 3]                   18\n",
       "│    └─ReLU: 2-2                         [10, 3]                   --\n",
       "│    └─Linear: 2-3                       [10, 1]                   4\n",
       "│    └─Sigmoid: 2-4                      [10, 1]                   --\n",
       "==========================================================================================\n",
       "Total params: 22\n",
       "Trainable params: 22\n",
       "Non-trainable params: 0\n",
       "Total mult-adds (Units.MEGABYTES): 0.00\n",
       "==========================================================================================\n",
       "Input size (MB): 0.00\n",
       "Forward/backward pass size (MB): 0.00\n",
       "Params size (MB): 0.00\n",
       "Estimated Total Size (MB): 0.00\n",
       "=========================================================================================="
      ]
     },
     "execution_count": 38,
     "metadata": {},
     "output_type": "execute_result"
    }
   ],
   "source": [
    "from torchinfo import summary\n",
    "\n",
    "summary(model, input_size=(10, 5))"
   ]
  }
 ],
 "metadata": {
  "kernelspec": {
   "display_name": "venv",
   "language": "python",
   "name": "python3"
  },
  "language_info": {
   "codemirror_mode": {
    "name": "ipython",
    "version": 3
   },
   "file_extension": ".py",
   "mimetype": "text/x-python",
   "name": "python",
   "nbconvert_exporter": "python",
   "pygments_lexer": "ipython3",
   "version": "3.12.8"
  }
 },
 "nbformat": 4,
 "nbformat_minor": 5
}
