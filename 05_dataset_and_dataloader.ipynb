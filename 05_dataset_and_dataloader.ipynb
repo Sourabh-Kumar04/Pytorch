{
 "cells": [
  {
   "cell_type": "markdown",
   "id": "01049797",
   "metadata": {},
   "source": [
    "## Dataset and Dataloader"
   ]
  },
  {
   "cell_type": "code",
   "execution_count": 23,
   "id": "9b008eec",
   "metadata": {},
   "outputs": [],
   "source": [
    "from sklearn.datasets import make_classification\n",
    "import torch"
   ]
  },
  {
   "cell_type": "code",
   "execution_count": 24,
   "id": "00a02333",
   "metadata": {},
   "outputs": [],
   "source": [
    "# Step1: Create a synthetic dataset using sklearn\n",
    "X, y = make_classification(\n",
    "    n_samples=10,  # Number of samples\n",
    "    n_features=5,  # Number of features\n",
    "    n_informative=2,  # Number of informative features\n",
    "    n_redundant=0,  # Number of redundant features\n",
    "    n_classes=2,  # Number of classes\n",
    "    random_state=42  # Random seed for repoducibility\n",
    ")"
   ]
  },
  {
   "cell_type": "code",
   "execution_count": 25,
   "metadata": {},
   "outputs": [
    {
     "data": {
      "text/plain": [
       "(10, 5)"
      ]
     },
     "execution_count": 25,
     "metadata": {},
     "output_type": "execute_result"
    }
   ],
   "source": [
    "X.shape"
   ]
  },
  {
   "cell_type": "code",
   "execution_count": 26,
   "metadata": {},
   "outputs": [
    {
     "data": {
      "text/plain": [
       "(10,)"
      ]
     },
     "execution_count": 26,
     "metadata": {},
     "output_type": "execute_result"
    }
   ],
   "source": [
    "y.shape"
   ]
  },
  {
   "cell_type": "code",
   "execution_count": 27,
   "metadata": {},
   "outputs": [],
   "source": [
    "# Convert the data to PyTorch tensors\n",
    "X = torch.tensor(X, dtype=torch.float32)\n",
    "y = torch.tensor(y, dtype=torch.long)"
   ]
  },
  {
   "cell_type": "code",
   "execution_count": 28,
   "id": "e155d5bc",
   "metadata": {},
   "outputs": [
    {
     "data": {
      "text/plain": [
       "tensor([[-1.4785,  1.0683, -0.4606, -0.7198, -0.9701],\n",
       "        [-1.3282, -1.1402,  0.7385,  0.1969, -0.8388],\n",
       "        [-0.0135, -0.7206,  0.8225, -1.0577, -0.9606],\n",
       "        [ 0.1714, -0.9382, -0.3011, -0.1156, -0.5430],\n",
       "        [ 1.0571,  1.7273, -1.7630,  0.3436, -1.1858],\n",
       "        [-1.2208, -0.5872, -1.9597,  0.2089, -1.9717],\n",
       "        [ 0.6117, -2.8954,  0.9313,  1.0310,  1.9769],\n",
       "        [ 0.9755,  1.8997, -0.1857, -0.4792,  0.8344],\n",
       "        [-0.8392,  1.7774,  0.3313, -0.3092,  1.5116],\n",
       "        [ 0.3241, -1.9629, -0.6769, -0.3851, -0.9923]])"
      ]
     },
     "execution_count": 28,
     "metadata": {},
     "output_type": "execute_result"
    }
   ],
   "source": [
    "X"
   ]
  },
  {
   "cell_type": "code",
   "execution_count": 29,
   "id": "e4222278",
   "metadata": {},
   "outputs": [
    {
     "data": {
      "text/plain": [
       "tensor([1, 0, 0, 1, 1, 0, 0, 1, 1, 0])"
      ]
     },
     "execution_count": 29,
     "metadata": {},
     "output_type": "execute_result"
    }
   ],
   "source": [
    "y"
   ]
  },
  {
   "cell_type": "code",
   "execution_count": 30,
   "metadata": {},
   "outputs": [],
   "source": [
    "from torch.utils.data import Dataset, DataLoader"
   ]
  },
  {
   "cell_type": "code",
   "execution_count": 31,
   "metadata": {},
   "outputs": [],
   "source": [
    "class CustomDataset(Dataset):\n",
    "\n",
    "    def __init__(self, features, labels):\n",
    "        self.features = features\n",
    "        self.labels = labels\n",
    "\n",
    "    def __len__(self):\n",
    "        return self.features.shape[0]\n",
    "    \n",
    "    def __getitem__(self, index):\n",
    "        return self.features[index], self.labels[index]"
   ]
  },
  {
   "cell_type": "code",
   "execution_count": 32,
   "id": "c4f97118",
   "metadata": {},
   "outputs": [],
   "source": [
    "dataset = CustomDataset(X, y)"
   ]
  },
  {
   "cell_type": "code",
   "execution_count": 33,
   "metadata": {},
   "outputs": [
    {
     "data": {
      "text/plain": [
       "10"
      ]
     },
     "execution_count": 33,
     "metadata": {},
     "output_type": "execute_result"
    }
   ],
   "source": [
    "len(dataset)"
   ]
  },
  {
   "cell_type": "code",
   "execution_count": 34,
   "id": "f42f0c53",
   "metadata": {},
   "outputs": [
    {
     "data": {
      "text/plain": [
       "(tensor([-0.0135, -0.7206,  0.8225, -1.0577, -0.9606]), tensor(0))"
      ]
     },
     "execution_count": 34,
     "metadata": {},
     "output_type": "execute_result"
    }
   ],
   "source": [
    "dataset[2]"
   ]
  },
  {
   "cell_type": "code",
   "execution_count": 35,
   "metadata": {},
   "outputs": [],
   "source": [
    "dataloader = DataLoader(dataset, batch_size=2, shuffle=True)"
   ]
  },
  {
   "cell_type": "code",
   "execution_count": null,
   "id": "d52efca3",
   "metadata": {},
   "outputs": [
    {
     "name": "stdout",
     "output_type": "stream",
     "text": [
      "tensor([[ 0.3241, -1.9629, -0.6769, -0.3851, -0.9923],\n",
      "        [-0.8392,  1.7774,  0.3313, -0.3092,  1.5116]])\n",
      "tensor([0, 1])\n",
      "--------------------------------------------------\n",
      "tensor([[-1.2208, -0.5872, -1.9597,  0.2089, -1.9717],\n",
      "        [ 0.6117, -2.8954,  0.9313,  1.0310,  1.9769]])\n",
      "tensor([0, 0])\n",
      "--------------------------------------------------\n",
      "tensor([[ 1.0571,  1.7273, -1.7630,  0.3436, -1.1858],\n",
      "        [-0.0135, -0.7206,  0.8225, -1.0577, -0.9606]])\n",
      "tensor([1, 0])\n",
      "--------------------------------------------------\n",
      "tensor([[ 0.1714, -0.9382, -0.3011, -0.1156, -0.5430],\n",
      "        [-1.3282, -1.1402,  0.7385,  0.1969, -0.8388]])\n",
      "tensor([1, 0])\n",
      "--------------------------------------------------\n",
      "tensor([[ 0.9755,  1.8997, -0.1857, -0.4792,  0.8344],\n",
      "        [-1.4785,  1.0683, -0.4606, -0.7198, -0.9701]])\n",
      "tensor([1, 1])\n",
      "--------------------------------------------------\n"
     ]
    }
   ],
   "source": [
    "for batch_features, batch_labels in dataloader:\n",
    "    print(batch_features)\n",
    "    print(batch_labels)\n",
    "    print(\"-\"*50)"
   ]
  },
  {
   "cell_type": "code",
   "execution_count": null,
   "metadata": {},
   "outputs": [],
   "source": []
  }
 ],
 "metadata": {
  "kernelspec": {
   "display_name": "venv",
   "language": "python",
   "name": "python3"
  },
  "language_info": {
   "codemirror_mode": {
    "name": "ipython",
    "version": 3
   },
   "file_extension": ".py",
   "mimetype": "text/x-python",
   "name": "python",
   "nbconvert_exporter": "python",
   "pygments_lexer": "ipython3",
   "version": "3.12.8"
  }
 },
 "nbformat": 4,
 "nbformat_minor": 5
}
